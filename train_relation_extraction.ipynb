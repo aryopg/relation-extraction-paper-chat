{
 "cells": [
  {
   "cell_type": "code",
   "execution_count": 1,
   "id": "361b59de-5576-473d-a7a0-827c57e5257e",
   "metadata": {},
   "outputs": [],
   "source": [
    "import pickle\n",
    "import kindred"
   ]
  },
  {
   "cell_type": "code",
   "execution_count": 2,
   "id": "c7682a94-9722-4158-9e55-f5c9d86002e1",
   "metadata": {},
   "outputs": [],
   "source": [
    "corpus = kindred.load(\"pubannotation\", \"/Users/aryopg/Downloads/AGAC_training/json\")\n",
    "train_corpus, dev_corpus = corpus.split(0.75)\n",
    "\n",
    "prediction_corpus = dev_corpus.clone()\n",
    "prediction_corpus.removeRelations()"
   ]
  },
  {
   "cell_type": "code",
   "execution_count": 7,
   "id": "5f1696bd-e683-4db9-834c-1178140fe20f",
   "metadata": {},
   "outputs": [
    {
     "data": {
      "text/plain": [
       "'Genetic modifiers of the Drosophila blue cheese gene link defects in lysosomal transport with decreased life span and altered ubiquitinated-protein profiles.\\nDefects in lysosomal trafficking pathways lead to decreased cell viability and are associated with progressive disorders in humans. Previously we have found that loss-of-function (LOF) mutations in the Drosophila gene blue cheese (bchs) lead to reduced adult life span, increased neuronal death, and widespread CNS degeneration that is associated with the formation of ubiquitinated-protein aggregates. To identify potential genes that participate in the bchs functional pathway, we conducted a genetic modifier screen based on alterations of an eye phenotype that arises from high-level overexpression of Bchs. We found that mutations in select autophagic and endocytic trafficking genes, defects in cytoskeletal and motor proteins, as well as mutations in the SUMO and ubiquitin signaling pathways behave as modifiers of the Bchs gain-of-function (GOF) eye phenotype. Individual mutant alleles that produced viable adults were further examined for bchs-like phenotypes. Mutations in several lysosomal trafficking genes resulted in significantly decreased adult life spans and several mutants showed changes in ubiquitinated protein profiles as young adults. This work represents a novel approach to examine the role that lysosomal transport and function have on adult viability. The genes characterized in this study have direct human homologs, suggesting that similar defects in lysosomal transport may play a role in human health and age-related processes.'"
      ]
     },
     "execution_count": 7,
     "metadata": {},
     "output_type": "execute_result"
    }
   ],
   "source": [
    "train_corpus.documents[0].text"
   ]
  },
  {
   "cell_type": "code",
   "execution_count": 8,
   "id": "496a93d6-6e40-415f-93af-03ece0759c1c",
   "metadata": {},
   "outputs": [
    {
     "data": {
      "text/plain": [
       "[<Entity Var:'mutations' sourceid=T1 [(343, 352)]>,\n",
       " <Entity Gene:'bchs' sourceid=T4 [(389, 393)]>,\n",
       " <Entity NegReg:'reduced' sourceid=T13 [(403, 410)]>,\n",
       " <Entity CPA:'adult life span' sourceid=T14 [(411, 426)]>,\n",
       " <Entity PosReg:'increased' sourceid=T2 [(428, 437)]>,\n",
       " <Entity CPA:'neuronal death' sourceid=T3 [(438, 452)]>,\n",
       " <Entity CPA:'widespread CNS' sourceid=T6 [(458, 472)]>,\n",
       " <Entity NegReg:'degeneration' sourceid=T5 [(473, 485)]>,\n",
       " <Entity Var:'Mutations' sourceid=T7 [(1130, 1139)]>,\n",
       " <Entity Gene:'lysosomal trafficking genes' sourceid=T8 [(1151, 1178)]>,\n",
       " <Entity NegReg:'decreased' sourceid=T9 [(1205, 1214)]>,\n",
       " <Entity CPA:'adult life spans' sourceid=T12 [(1215, 1231)]>,\n",
       " <Entity Reg:'changes' sourceid=T10 [(1259, 1266)]>,\n",
       " <Entity MPA:'ubiquitinated protein profiles' sourceid=T11 [(1270, 1300)]>]"
      ]
     },
     "execution_count": 8,
     "metadata": {},
     "output_type": "execute_result"
    }
   ],
   "source": [
    "train_corpus.documents[0].entities"
   ]
  },
  {
   "cell_type": "code",
   "execution_count": 9,
   "id": "b67f1383-4f12-40c2-a313-541849362c65",
   "metadata": {},
   "outputs": [
    {
     "data": {
      "text/plain": [
       "[<Relation ThemeOf [<Entity Gene:'bchs' sourceid=T4 [(389, 393)]>, <Entity Var:'mutations' sourceid=T1 [(343, 352)]>] ['subj', 'obj']>,\n",
       " <Relation ThemeOf [<Entity MPA:'ubiquitinated protein profiles' sourceid=T11 [(1270, 1300)]>, <Entity Reg:'changes' sourceid=T10 [(1259, 1266)]>] ['subj', 'obj']>,\n",
       " <Relation CauseOf [<Entity Var:'mutations' sourceid=T1 [(343, 352)]>, <Entity NegReg:'reduced' sourceid=T13 [(403, 410)]>] ['subj', 'obj']>,\n",
       " <Relation ThemeOf [<Entity CPA:'adult life span' sourceid=T14 [(411, 426)]>, <Entity NegReg:'reduced' sourceid=T13 [(403, 410)]>] ['subj', 'obj']>,\n",
       " <Relation CauseOf [<Entity Var:'mutations' sourceid=T1 [(343, 352)]>, <Entity PosReg:'increased' sourceid=T2 [(428, 437)]>] ['subj', 'obj']>,\n",
       " <Relation ThemeOf [<Entity CPA:'neuronal death' sourceid=T3 [(438, 452)]>, <Entity PosReg:'increased' sourceid=T2 [(428, 437)]>] ['subj', 'obj']>,\n",
       " <Relation CauseOf [<Entity Var:'mutations' sourceid=T1 [(343, 352)]>, <Entity NegReg:'degeneration' sourceid=T5 [(473, 485)]>] ['subj', 'obj']>,\n",
       " <Relation ThemeOf [<Entity CPA:'widespread CNS' sourceid=T6 [(458, 472)]>, <Entity NegReg:'degeneration' sourceid=T5 [(473, 485)]>] ['subj', 'obj']>,\n",
       " <Relation ThemeOf [<Entity Gene:'lysosomal trafficking genes' sourceid=T8 [(1151, 1178)]>, <Entity Var:'Mutations' sourceid=T7 [(1130, 1139)]>] ['subj', 'obj']>,\n",
       " <Relation CauseOf [<Entity Var:'Mutations' sourceid=T7 [(1130, 1139)]>, <Entity NegReg:'decreased' sourceid=T9 [(1205, 1214)]>] ['subj', 'obj']>,\n",
       " <Relation ThemeOf [<Entity CPA:'adult life spans' sourceid=T12 [(1215, 1231)]>, <Entity NegReg:'decreased' sourceid=T9 [(1205, 1214)]>] ['subj', 'obj']>,\n",
       " <Relation CauseOf [<Entity Var:'Mutations' sourceid=T7 [(1130, 1139)]>, <Entity Reg:'changes' sourceid=T10 [(1259, 1266)]>] ['subj', 'obj']>]"
      ]
     },
     "execution_count": 9,
     "metadata": {},
     "output_type": "execute_result"
    }
   ],
   "source": [
    "train_corpus.documents[0].relations"
   ]
  },
  {
   "cell_type": "code",
   "execution_count": 11,
   "id": "d4585aff-b5d7-4b2e-90a6-6e6bcf97851b",
   "metadata": {},
   "outputs": [
    {
     "data": {
      "text/plain": [
       "[]"
      ]
     },
     "execution_count": 11,
     "metadata": {},
     "output_type": "execute_result"
    }
   ],
   "source": [
    "train_corpus.documents[0].sentences"
   ]
  },
  {
   "cell_type": "code",
   "execution_count": 12,
   "id": "6055421a-6333-4f9a-9922-8aa79b1efc40",
   "metadata": {},
   "outputs": [
    {
     "name": "stdout",
     "output_type": "stream",
     "text": [
      "Training\n",
      "Training Done\n"
     ]
    }
   ],
   "source": [
    "print(\"Training\")\n",
    "classifier = kindred.RelationClassifier()\n",
    "classifier.train(train_corpus)\n",
    "print(\"Training Done\")"
   ]
  },
  {
   "cell_type": "code",
   "execution_count": 17,
   "id": "68d860c0-47a7-480b-937d-4ef26ec34a8d",
   "metadata": {},
   "outputs": [
    {
     "data": {
      "text/plain": [
       "[]"
      ]
     },
     "execution_count": 17,
     "metadata": {},
     "output_type": "execute_result"
    }
   ],
   "source": [
    "prediction_corpus.documents[0].relations"
   ]
  },
  {
   "cell_type": "code",
   "execution_count": null,
   "id": "5bcdcf8e-6894-4a1c-bd9f-ce9a9971b81b",
   "metadata": {},
   "outputs": [],
   "source": []
  }
 ],
 "metadata": {
  "kernelspec": {
   "display_name": "poetry_relation_extraction_paper_chat",
   "language": "python",
   "name": "poetry_relation_extraction_paper_chat"
  },
  "language_info": {
   "codemirror_mode": {
    "name": "ipython",
    "version": 3
   },
   "file_extension": ".py",
   "mimetype": "text/x-python",
   "name": "python",
   "nbconvert_exporter": "python",
   "pygments_lexer": "ipython3",
   "version": "3.9.0"
  }
 },
 "nbformat": 4,
 "nbformat_minor": 5
}
