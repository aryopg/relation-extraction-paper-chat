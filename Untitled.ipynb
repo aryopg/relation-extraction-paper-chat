{
 "cells": [
  {
   "cell_type": "code",
   "execution_count": 1,
   "id": "bc81eeb1-fceb-49ec-a8f3-4e14886e117a",
   "metadata": {},
   "outputs": [],
   "source": [
    "import spacy"
   ]
  },
  {
   "cell_type": "code",
   "execution_count": 67,
   "id": "50c02e0f-ba59-4167-bfbe-cd44dc314105",
   "metadata": {},
   "outputs": [
    {
     "data": {
      "text/plain": [
       "['transformer', 'tagger', 'parser', 'attribute_ruler', 'lemmatizer', 'ner']"
      ]
     },
     "execution_count": 67,
     "metadata": {},
     "output_type": "execute_result"
    }
   ],
   "source": [
    "nlp=spacy.load('en_core_web_trf')\n",
    "nlp.pipe_names\n",
    "# from spacy.language import Language\n",
    "# nlp = spacy.load(\n",
    "#     \"/Users/aryopg/Documents/learning/relation-extraction-paper-chat/md_ner_classifier\"\n",
    "# )"
   ]
  },
  {
   "cell_type": "code",
   "execution_count": 68,
   "id": "f3235c19-3332-40cc-8e87-ab4c59ac255a",
   "metadata": {},
   "outputs": [],
   "source": [
    "import pickle\n",
    "import kindred\n",
    "\n",
    "corpus = kindred.load(\"pubannotation\", \"/Users/aryopg/Downloads/AGAC_training/json\")"
   ]
  },
  {
   "cell_type": "code",
   "execution_count": 69,
   "id": "1f15260e-8706-4bc0-b2d7-63395f4809f9",
   "metadata": {},
   "outputs": [],
   "source": [
    "spacy_training_corpus = []\n",
    "for doc in corpus.documents:\n",
    "    text = doc.text\n",
    "    entities = []\n",
    "    for entity in doc.entities:\n",
    "        entity_position = entity.position\n",
    "        entity_type = entity.entityType\n",
    "        entities += [(entity_position[0][0], entity_position[0][1], entity_type)]\n",
    "    spacy_training_corpus += [(text, {\"entities\": list(set(entities))})]"
   ]
  },
  {
   "cell_type": "code",
   "execution_count": 70,
   "id": "ffad4ab6-0f60-481b-b95e-ead5c3f05325",
   "metadata": {},
   "outputs": [
    {
     "data": {
      "text/plain": [
       "['tagger', 'parser', 'attribute_ruler', 'lemmatizer']"
      ]
     },
     "execution_count": 70,
     "metadata": {},
     "output_type": "execute_result"
    }
   ],
   "source": [
    "pipe_exceptions = [\"transformer\", \"ner\"]\n",
    "unaffected_pipes = [pipe for pipe in nlp.pipe_names if pipe not in pipe_exceptions]\n",
    "unaffected_pipes"
   ]
  },
  {
   "cell_type": "code",
   "execution_count": 71,
   "id": "8e2408d8-812c-4116-90ac-2b27c8064d74",
   "metadata": {},
   "outputs": [],
   "source": [
    "import random\n",
    "from spacy.util import minibatch, compounding\n",
    "from pathlib import Path\n",
    "from spacy.training import Example"
   ]
  },
  {
   "cell_type": "code",
   "execution_count": null,
   "id": "b4f37e3f-dd18-475a-bd85-811920e9ccec",
   "metadata": {
    "tags": []
   },
   "outputs": [
    {
     "name": "stderr",
     "output_type": "stream",
     "text": [
      "/Users/aryopg/Library/Caches/pypoetry/virtualenvs/relation-extraction-paper-chat-TlqBbrrO-py3.9/lib/python3.9/site-packages/spacy/training/iob_utils.py:141: UserWarning: [W030] Some entities could not be aligned in the text \"Multifocal atrial and ventricular premature contra...\" with entities \"[(1648, 1664, 'PosReg'), (152, 157, 'Var'), (667, ...\". Use `spacy.training.offsets_to_biluo_tags(nlp.make_doc(text), entities)` to check the alignment. Misaligned entities ('-') will be ignored during training.\n",
      "  warnings.warn(\n"
     ]
    },
    {
     "name": "stdout",
     "output_type": "stream",
     "text": [
      "Iteration: 0; Losses:  {'transformer': 1098508.410446167, 'ner': 11090.53518762091}\n"
     ]
    }
   ],
   "source": [
    "with nlp.disable_pipes(*unaffected_pipes):\n",
    "    for iteration in range(30):\n",
    "        random.shuffle(spacy_training_corpus)\n",
    "        losses = {}\n",
    "\n",
    "        batches = minibatch(spacy_training_corpus, size=compounding(4.0, 32.0, 1.001))\n",
    "        for batch in batches:\n",
    "            examples = []\n",
    "            for text, annotations in batch:\n",
    "                doc = nlp.make_doc(text)\n",
    "                example = Example.from_dict(doc, annotations)\n",
    "                examples += [example]\n",
    "            nlp.update(\n",
    "                examples,\n",
    "                drop=0.5,  # dropout - make it harder to memorise data\n",
    "                losses=losses,\n",
    "            )\n",
    "        print(f\"Iteration: {iteration}; Losses: \", losses)"
   ]
  },
  {
   "cell_type": "code",
   "execution_count": null,
   "id": "3750ad96-a1a9-4563-942e-4b3d03597841",
   "metadata": {},
   "outputs": [],
   "source": [
    "doc = nlp(\"Effects of a leukemia-associated gain-of-function mutation of SHP-2 phosphatase on interleukin-3 signaling.\\nMutations in SHP-2 phosphatase that cause hyperactivation of its catalytic activity have been identified in human leukemias, particularly juvenile myelomonocytic leukemia, which is characterized by hypersensitivity of myeloid progenitor cells to granulocyte macrophage colony-stimulating factor and interleukin (IL)-3. However, the molecular mechanisms by which gain-of-function (GOF) mutations of SHP-2 induce hematopoietic malignancies are not fully understood. Our previous studies have shown that SHP-2 plays an essential role in IL-3 signal transduction in both catalytic-dependent and -independent manners and that overexpression (5-6-fold) of wild type (WT) SHP-2 attenuates IL-3-mediated hematopoietic cell function through accelerated dephosphorylation of STAT5. These results raised the possibility that SHP-2-associated leukemias are not solely attributed to the increased catalytic activity of GOF mutant SHP-2. GOF mutant SHP-2 must have gained additional capacities. To test this possibility, we investigated effects of a GOF mutation of SHP-2 (SHP-2 E76K) on hematopoietic cell function and IL-3 signal transduction by comparing with those of overexpressed WT SHP-2. Our results showed that SHP-2 E76K mutation caused myeloproliferative disease in mice, while overexpression of WT SHP-2 decreased hematopoietic potential of the transduced cells in recipient animals. The E76K mutation in the N-terminal Src homology 2 domain increased interactions of mutant SHP-2 with Grb2, Gab2, and p85, leading to hyperactivation of IL-3-induced Erk and phosphatidylinositol 3-kinase (PI3K) pathways. In addition, despite the substantial increase in the catalytic activity, dephosphorylation of STAT5 by SHP-2 E76K was dampened. Furthermore, catalytically inactive SHP-2 E76K with an additional C459S mutation retained the capability to increase the interaction with Gab2 and to enhance the activation of the PI3K pathway. Taken together, these studies suggest that in addition to the elevated catalytic activity, fundamental changes in physical and functional interactions between GOF mutant SHP-2 and signaling partners also play an important role in SHP-2-related leukemigenesis.\")"
   ]
  },
  {
   "cell_type": "code",
   "execution_count": null,
   "id": "d86d51bf-706f-477e-8270-e15a0908525c",
   "metadata": {},
   "outputs": [],
   "source": [
    "for ent in doc.ents:\n",
    "    print(f\"{ent.text} - {ent.label_}\")"
   ]
  },
  {
   "cell_type": "code",
   "execution_count": null,
   "id": "7f322212-1ea0-4834-b9c1-26d1e082c304",
   "metadata": {},
   "outputs": [],
   "source": [
    "doc = nlp(\"High-grade serous ovarian carcinoma (HGSOC) is clinically dominant and accounts for ~ 80% deaths in all types of ovarian cancer. The delayed diagnosis, rapid development, and wide dissemination of HGSOC collectively contribute to its high mortality rate and poor prognosis in the patients. Suppressors of cytokine signaling 7 (SOCS7) can regulate cytokine signaling and participate in cell cycle arrest and regulation of cell proliferation, which might also be involved in carcinogenesis. Here, we designated to investigate the functions and mechanisms of SOCS7 in HGSOC.\")\n",
    "for ent in doc.ents:\n",
    "    print(f\"{ent.text} - {ent.label_}\")"
   ]
  },
  {
   "cell_type": "code",
   "execution_count": null,
   "id": "860d2261-dea2-401b-8e9d-917bb52c22c3",
   "metadata": {},
   "outputs": [],
   "source": [
    "nlp.to_disk(\"trf_ner_classifier\")"
   ]
  },
  {
   "cell_type": "code",
   "execution_count": 16,
   "id": "20a5b0a6-2f19-44a9-93dc-6afc279c6cba",
   "metadata": {},
   "outputs": [],
   "source": [
    "# import kindred"
   ]
  },
  {
   "cell_type": "code",
   "execution_count": 18,
   "id": "632730a0-96d7-4dc9-a4f4-66cb8f812a26",
   "metadata": {},
   "outputs": [],
   "source": [
    "# entities = []\n",
    "# for entity in doc.ents:\n",
    "#     entities += [kindred.Entity(entity.label_, entity.text, [(entity.start_char, entity.end_char)])]\n",
    "# kindred_doc = kindred.Document(text=doc.text, entities=entities)"
   ]
  },
  {
   "cell_type": "code",
   "execution_count": 19,
   "id": "01b71978-05a0-4d22-aef5-3576fa610726",
   "metadata": {},
   "outputs": [
    {
     "data": {
      "text/plain": [
       "<Document Effects of a leukemia-associated gain-of-function mutation of SHP-2 phosphatase on interleukin-3 signaling.\n",
       "Mutations in SHP-2 phosphatase that cause hyperactivation of its catalytic activity have been identified in human leukemias, particularly juvenile myelomonocytic leukemia, which is characterized by hypersensitivity of myeloid progenitor cells to granulocyte macrophage colony-stimulating factor and interleukin (IL)-3. However, the molecular mechanisms by which gain-of-function (GOF) mutations of SHP-2 induce hematopoietic malignancies are not fully understood. Our previous studies have shown that SHP-2 plays an essential role in IL-3 signal transduction in both catalytic-dependent and -independent manners and that overexpression (5-6-fold) of wild type (WT) SHP-2 attenuates IL-3-mediated hematopoietic cell function through accelerated dephosphorylation of STAT5. These results raised the possibility that SHP-2-associated leukemias are not solely attributed to the increased catalytic activity of GOF mutant SHP-2. GOF mutant SHP-2 must have gained additional capacities. To test this possibility, we investigated effects of a GOF mutation of SHP-2 (SHP-2 E76K) on hematopoietic cell function and IL-3 signal transduction by comparing with those of overexpressed WT SHP-2. Our results showed that SHP-2 E76K mutation caused myeloproliferative disease in mice, while overexpression of WT SHP-2 decreased hematopoietic potential of the transduced cells in recipient animals. The E76K mutation in the N-terminal Src homology 2 domain increased interactions of mutant SHP-2 with Grb2, Gab2, and p85, leading to hyperactivation of IL-3-induced Erk and phosphatidylinositol 3-kinase (PI3K) pathways. In addition, despite the substantial increase in the catalytic activity, dephosphorylation of STAT5 by SHP-2 E76K was dampened. Furthermore, catalytically inactive SHP-2 E76K with an additional C459S mutation retained the capability to increase the interaction with Gab2 and to enhance the activation of the PI3K pathway. Taken together, these studies suggest that in addition to the elevated catalytic activity, fundamental changes in physical and functional interactions between GOF mutant SHP-2 and signaling partners also play an important role in SHP-2-related leukemigenesis. [<Entity Var:'Mutations' sourceid=None [(108, 117)]>, <Entity Gene:'SHP-2' sourceid=None [(121, 126)]>, <Entity Enzyme:'phosphatase' sourceid=None [(127, 138)]>, <Entity PosReg:'hyperactivation' sourceid=None [(150, 165)]>, <Entity MPA:'catalytic activity' sourceid=None [(173, 191)]>, <Entity Disease:'leukemias' sourceid=None [(222, 231)]>, <Entity Disease:'juvenile myelomonocytic leukemia' sourceid=None [(246, 278)]>, <Entity Gene:'SHP-2' sourceid=None [(1314, 1319)]>, <Entity Var:'E76K mutation' sourceid=None [(1320, 1333)]>, <Entity Disease:'myeloproliferative disease' sourceid=None [(1341, 1367)]>, <Entity Var:'E76K' sourceid=None [(1494, 1498)]>, <Entity PosReg:'increased' sourceid=None [(1548, 1557)]>, <Entity Interaction:'interactions' sourceid=None [(1558, 1570)]>, <Entity Var:'mutant' sourceid=None [(1574, 1580)]>, <Entity Gene:'SHP-2' sourceid=None [(1581, 1586)]>, <Entity Protein:'Grb2' sourceid=None [(1592, 1596)]>, <Entity PosReg:'hyperactivation' sourceid=None [(1624, 1639)]>, <Entity Pathway:'IL-3-induced Erk and phosphatidylinositol 3-kinase (PI3K) pathways' sourceid=None [(1643, 1709)]>, <Entity PosReg:'increase' sourceid=None [(1748, 1756)]>, <Entity MPA:'catalytic activity' sourceid=None [(1764, 1782)]>, <Entity MPA:'dephosphorylation of STAT5' sourceid=None [(1784, 1810)]>, <Entity Gene:'SHP-2' sourceid=None [(1814, 1819)]>, <Entity Var:'E76K' sourceid=None [(1820, 1824)]>, <Entity NegReg:'dampened' sourceid=None [(1829, 1837)]>, <Entity Gene:'SHP-2' sourceid=None [(1875, 1880)]>, <Entity Var:'E76K' sourceid=None [(1881, 1885)]>, <Entity Var:'C459S' sourceid=None [(1905, 1910)]>, <Entity PosReg:'increase' sourceid=None [(1947, 1955)]>, <Entity Interaction:'interaction' sourceid=None [(1960, 1971)]>, <Entity Protein:'Gab2' sourceid=None [(1977, 1981)]>, <Entity PosReg:'enhance' sourceid=None [(1989, 1996)]>, <Entity Pathway:'PI3K pathway' sourceid=None [(2019, 2031)]>] []>"
      ]
     },
     "execution_count": 19,
     "metadata": {},
     "output_type": "execute_result"
    }
   ],
   "source": [
    "# kindred_doc"
   ]
  },
  {
   "cell_type": "code",
   "execution_count": 22,
   "id": "076c374f-f0c8-4e5e-b332-65c2317b4cdd",
   "metadata": {},
   "outputs": [],
   "source": [
    "# kindred_corpus = kindred.Corpus()\n",
    "# kindred_corpus.addDocument(kindred_doc)"
   ]
  },
  {
   "cell_type": "code",
   "execution_count": 55,
   "id": "d0374ddd-1393-4802-87fb-1e4726404e3e",
   "metadata": {},
   "outputs": [],
   "source": [
    "# with open(\"classifier.pickle\", \"rb\") as model_file:\n",
    "#     re_model = pickle.load(model_file)"
   ]
  },
  {
   "cell_type": "code",
   "execution_count": 56,
   "id": "32910afe-cb39-42a0-9a11-01a3f401fc15",
   "metadata": {},
   "outputs": [],
   "source": [
    "# re_model.predict(kindred_corpus)"
   ]
  },
  {
   "cell_type": "code",
   "execution_count": 57,
   "id": "507e2be7-e96f-4afb-9049-8b399f3278a8",
   "metadata": {},
   "outputs": [
    {
     "data": {
      "text/plain": [
       "[<Relation CauseOf [<Entity Var:'Mutations' sourceid=None [(108, 117)]>, <Entity PosReg:'hyperactivation' sourceid=None [(150, 165)]>] ['subj', 'obj']>,\n",
       " <Relation ThemeOf [<Entity Gene:'SHP-2' sourceid=None [(121, 126)]>, <Entity Var:'Mutations' sourceid=None [(108, 117)]>] ['subj', 'obj']>,\n",
       " <Relation ThemeOf [<Entity Enzyme:'phosphatase' sourceid=None [(127, 138)]>, <Entity Var:'Mutations' sourceid=None [(108, 117)]>] ['subj', 'obj']>,\n",
       " <Relation ThemeOf [<Entity MPA:'catalytic activity' sourceid=None [(173, 191)]>, <Entity PosReg:'hyperactivation' sourceid=None [(150, 165)]>] ['subj', 'obj']>,\n",
       " <Relation ThemeOf [<Entity Disease:'leukemias' sourceid=None [(222, 231)]>, <Entity MPA:'catalytic activity' sourceid=None [(173, 191)]>] ['subj', 'obj']>,\n",
       " <Relation ThemeOf [<Entity Disease:'juvenile myelomonocytic leukemia' sourceid=None [(246, 278)]>, <Entity MPA:'catalytic activity' sourceid=None [(173, 191)]>] ['subj', 'obj']>,\n",
       " <Relation ThemeOf [<Entity Gene:'SHP-2' sourceid=None [(1314, 1319)]>, <Entity Var:'E76K mutation' sourceid=None [(1320, 1333)]>] ['subj', 'obj']>,\n",
       " <Relation CauseOf [<Entity Var:'E76K' sourceid=None [(1494, 1498)]>, <Entity PosReg:'increased' sourceid=None [(1548, 1557)]>] ['subj', 'obj']>,\n",
       " <Relation ThemeOf [<Entity Interaction:'interactions' sourceid=None [(1558, 1570)]>, <Entity PosReg:'increased' sourceid=None [(1548, 1557)]>] ['subj', 'obj']>,\n",
       " <Relation CauseOf [<Entity Var:'mutant' sourceid=None [(1574, 1580)]>, <Entity PosReg:'increased' sourceid=None [(1548, 1557)]>] ['subj', 'obj']>,\n",
       " <Relation CauseOf [<Entity Var:'mutant' sourceid=None [(1574, 1580)]>, <Entity PosReg:'hyperactivation' sourceid=None [(1624, 1639)]>] ['subj', 'obj']>,\n",
       " <Relation ThemeOf [<Entity Gene:'SHP-2' sourceid=None [(1581, 1586)]>, <Entity Interaction:'interactions' sourceid=None [(1558, 1570)]>] ['subj', 'obj']>,\n",
       " <Relation ThemeOf [<Entity Gene:'SHP-2' sourceid=None [(1581, 1586)]>, <Entity Var:'mutant' sourceid=None [(1574, 1580)]>] ['subj', 'obj']>,\n",
       " <Relation ThemeOf [<Entity Protein:'Grb2' sourceid=None [(1592, 1596)]>, <Entity Interaction:'interactions' sourceid=None [(1558, 1570)]>] ['subj', 'obj']>,\n",
       " <Relation ThemeOf [<Entity Pathway:'IL-3-induced Erk and phosphatidylinositol 3-kinase (PI3K) pathways' sourceid=None [(1643, 1709)]>, <Entity PosReg:'hyperactivation' sourceid=None [(1624, 1639)]>] ['subj', 'obj']>,\n",
       " <Relation CauseOf [<Entity PosReg:'increase' sourceid=None [(1748, 1756)]>, <Entity NegReg:'dampened' sourceid=None [(1829, 1837)]>] ['subj', 'obj']>,\n",
       " <Relation ThemeOf [<Entity MPA:'catalytic activity' sourceid=None [(1764, 1782)]>, <Entity PosReg:'increase' sourceid=None [(1748, 1756)]>] ['subj', 'obj']>,\n",
       " <Relation ThemeOf [<Entity MPA:'dephosphorylation of STAT5' sourceid=None [(1784, 1810)]>, <Entity NegReg:'dampened' sourceid=None [(1829, 1837)]>] ['subj', 'obj']>,\n",
       " <Relation ThemeOf [<Entity Gene:'SHP-2' sourceid=None [(1814, 1819)]>, <Entity Var:'E76K' sourceid=None [(1820, 1824)]>] ['subj', 'obj']>,\n",
       " <Relation ThemeOf [<Entity Gene:'SHP-2' sourceid=None [(1814, 1819)]>, <Entity NegReg:'dampened' sourceid=None [(1829, 1837)]>] ['subj', 'obj']>,\n",
       " <Relation CauseOf [<Entity Var:'E76K' sourceid=None [(1820, 1824)]>, <Entity PosReg:'increase' sourceid=None [(1748, 1756)]>] ['subj', 'obj']>,\n",
       " <Relation CauseOf [<Entity Var:'E76K' sourceid=None [(1820, 1824)]>, <Entity MPA:'dephosphorylation of STAT5' sourceid=None [(1784, 1810)]>] ['subj', 'obj']>,\n",
       " <Relation CauseOf [<Entity Var:'E76K' sourceid=None [(1820, 1824)]>, <Entity NegReg:'dampened' sourceid=None [(1829, 1837)]>] ['subj', 'obj']>,\n",
       " <Relation CauseOf [<Entity NegReg:'dampened' sourceid=None [(1829, 1837)]>, <Entity PosReg:'increase' sourceid=None [(1748, 1756)]>] ['subj', 'obj']>,\n",
       " <Relation ThemeOf [<Entity Gene:'SHP-2' sourceid=None [(1875, 1880)]>, <Entity Var:'E76K' sourceid=None [(1881, 1885)]>] ['subj', 'obj']>,\n",
       " <Relation CauseOf [<Entity Var:'E76K' sourceid=None [(1881, 1885)]>, <Entity PosReg:'increase' sourceid=None [(1947, 1955)]>] ['subj', 'obj']>,\n",
       " <Relation CauseOf [<Entity Var:'E76K' sourceid=None [(1881, 1885)]>, <Entity PosReg:'enhance' sourceid=None [(1989, 1996)]>] ['subj', 'obj']>,\n",
       " <Relation CauseOf [<Entity Var:'C459S' sourceid=None [(1905, 1910)]>, <Entity PosReg:'increase' sourceid=None [(1947, 1955)]>] ['subj', 'obj']>,\n",
       " <Relation CauseOf [<Entity Var:'C459S' sourceid=None [(1905, 1910)]>, <Entity PosReg:'enhance' sourceid=None [(1989, 1996)]>] ['subj', 'obj']>,\n",
       " <Relation ThemeOf [<Entity Interaction:'interaction' sourceid=None [(1960, 1971)]>, <Entity PosReg:'increase' sourceid=None [(1947, 1955)]>] ['subj', 'obj']>,\n",
       " <Relation ThemeOf [<Entity Protein:'Gab2' sourceid=None [(1977, 1981)]>, <Entity PosReg:'increase' sourceid=None [(1947, 1955)]>] ['subj', 'obj']>,\n",
       " <Relation ThemeOf [<Entity Pathway:'PI3K pathway' sourceid=None [(2019, 2031)]>, <Entity PosReg:'enhance' sourceid=None [(1989, 1996)]>] ['subj', 'obj']>,\n",
       " <Relation CauseOf [<Entity Var:'Mutations' sourceid=None [(108, 117)]>, <Entity MPA:'catalytic activity' sourceid=None [(173, 191)]>] ['subj', 'obj']>,\n",
       " <Relation CauseOf [<Entity Var:'Mutations' sourceid=None [(108, 117)]>, <Entity Disease:'leukemias' sourceid=None [(222, 231)]>] ['subj', 'obj']>,\n",
       " <Relation ThemeOf [<Entity Gene:'SHP-2' sourceid=None [(121, 126)]>, <Entity Enzyme:'phosphatase' sourceid=None [(127, 138)]>] ['subj', 'obj']>,\n",
       " <Relation ThemeOf [<Entity Enzyme:'phosphatase' sourceid=None [(127, 138)]>, <Entity Gene:'SHP-2' sourceid=None [(121, 126)]>] ['subj', 'obj']>,\n",
       " <Relation ThemeOf [<Entity Disease:'leukemias' sourceid=None [(222, 231)]>, <Entity PosReg:'hyperactivation' sourceid=None [(150, 165)]>] ['subj', 'obj']>,\n",
       " <Relation ThemeOf [<Entity Disease:'juvenile myelomonocytic leukemia' sourceid=None [(246, 278)]>, <Entity PosReg:'hyperactivation' sourceid=None [(150, 165)]>] ['subj', 'obj']>,\n",
       " <Relation CauseOf [<Entity Var:'E76K mutation' sourceid=None [(1320, 1333)]>, <Entity Disease:'myeloproliferative disease' sourceid=None [(1341, 1367)]>] ['subj', 'obj']>,\n",
       " <Relation CauseOf [<Entity Var:'E76K' sourceid=None [(1494, 1498)]>, <Entity PosReg:'hyperactivation' sourceid=None [(1624, 1639)]>] ['subj', 'obj']>,\n",
       " <Relation CauseOf [<Entity PosReg:'increased' sourceid=None [(1548, 1557)]>, <Entity PosReg:'hyperactivation' sourceid=None [(1624, 1639)]>] ['subj', 'obj']>,\n",
       " <Relation ThemeOf [<Entity Var:'mutant' sourceid=None [(1574, 1580)]>, <Entity Interaction:'interactions' sourceid=None [(1558, 1570)]>] ['subj', 'obj']>,\n",
       " <Relation CauseOf [<Entity PosReg:'hyperactivation' sourceid=None [(1624, 1639)]>, <Entity PosReg:'increased' sourceid=None [(1548, 1557)]>] ['subj', 'obj']>,\n",
       " <Relation ThemeOf [<Entity MPA:'dephosphorylation of STAT5' sourceid=None [(1784, 1810)]>, <Entity PosReg:'increase' sourceid=None [(1748, 1756)]>] ['subj', 'obj']>,\n",
       " <Relation ThemeOf [<Entity MPA:'dephosphorylation of STAT5' sourceid=None [(1784, 1810)]>, <Entity MPA:'catalytic activity' sourceid=None [(1764, 1782)]>] ['subj', 'obj']>,\n",
       " <Relation ThemeOf [<Entity Gene:'SHP-2' sourceid=None [(1814, 1819)]>, <Entity PosReg:'increase' sourceid=None [(1748, 1756)]>] ['subj', 'obj']>,\n",
       " <Relation ThemeOf [<Entity Gene:'SHP-2' sourceid=None [(1814, 1819)]>, <Entity MPA:'dephosphorylation of STAT5' sourceid=None [(1784, 1810)]>] ['subj', 'obj']>,\n",
       " <Relation ThemeOf [<Entity Var:'E76K' sourceid=None [(1820, 1824)]>, <Entity NegReg:'dampened' sourceid=None [(1829, 1837)]>] ['subj', 'obj']>,\n",
       " <Relation ThemeOf [<Entity Gene:'SHP-2' sourceid=None [(1875, 1880)]>, <Entity Var:'C459S' sourceid=None [(1905, 1910)]>] ['subj', 'obj']>,\n",
       " <Relation ThemeOf [<Entity Protein:'Gab2' sourceid=None [(1977, 1981)]>, <Entity Interaction:'interaction' sourceid=None [(1960, 1971)]>] ['subj', 'obj']>]"
      ]
     },
     "execution_count": 57,
     "metadata": {},
     "output_type": "execute_result"
    }
   ],
   "source": [
    "# kindred_corpus.getRelations()"
   ]
  },
  {
   "cell_type": "code",
   "execution_count": 29,
   "id": "8d80cf5f-785d-49cc-8585-ba9333edea96",
   "metadata": {},
   "outputs": [],
   "source": [
    "nlp.to_disk(\"trf_ner_classifier\")"
   ]
  },
  {
   "cell_type": "code",
   "execution_count": 30,
   "id": "e2d088ca-71f3-4671-926f-199f3fe9a75f",
   "metadata": {},
   "outputs": [],
   "source": [
    "# doc2 = nlp(\"There has been much progress in ovarian cancer screening and prevention in recent years. Improved tools that combine genetic and epidemiologic factors to predict an individual's ovarian cancer risk are set to become available for tailoring preventive and screening approaches. The increasing evidence on tubal origins of a proportion of ovarian cancer has paved the way to use of opportunistic bilateral salpingectomy at tubal ligation and hysterectomy in the general population. Clinical trials are in progress to estimate the long-term effects on endocrine function. In women at high risk, risk reducing salpingo-oophorectomy remains the standard of care with the current focus on management of resulting noncancer outcomes, especially sexual dysfunction in younger women. This has led to evaluation of early bilateral salpingectomy and delayed oophorectomy in this population. Meanwhile, modeling suggests that BRCA mutation carriers should consider using the oral contraceptive pill for chemoprevention. In the general population, the largest ovarian cancer screening trial to date, the UK Collaborative Trial of Ovarian Cancer Screening reported a stage shift with annual multimodal screening using the longitudinal CA 125 Risk of Ovarian Cancer Algorithm but not with annual transvaginal ultrasound screening. There was no definitive mortality reduction with either screening strategy compared with no screening. Further follow-up until December 2018 in now underway. Stage shift and higher rates of optimal cytoreduction were also reported during 3- to 4-monthly multimodal screening in the United Kingdom and U.S. high-risk screening trials. Although all agree that there is not yet evidence to support general population screening, recommendations for high-risk screening vary between countries. A key finding from the screening trials has been the better performance of longitudinal algorithms compared with a single cutoff for CA 125. A major focus of ovarian cancer biomarker discovery work has been tumor DNA markers in both plasma and novel specimens such as cervical cytology samples.\")"
   ]
  },
  {
   "cell_type": "code",
   "execution_count": 34,
   "id": "99a10c12-c6d5-4ee5-9f7d-3fbdae044eaa",
   "metadata": {},
   "outputs": [
    {
     "data": {
      "text/plain": [
       "There has been much progress in ovarian cancer screening and prevention in recent years. Improved tools that combine genetic and epidemiologic factors to predict an individual's ovarian cancer risk are set to become available for tailoring preventive and screening approaches. The increasing evidence on tubal origins of a proportion of ovarian cancer has paved the way to use of opportunistic bilateral salpingectomy at tubal ligation and hysterectomy in the general population. Clinical trials are in progress to estimate the long-term effects on endocrine function. In women at high risk, risk reducing salpingo-oophorectomy remains the standard of care with the current focus on management of resulting noncancer outcomes, especially sexual dysfunction in younger women. This has led to evaluation of early bilateral salpingectomy and delayed oophorectomy in this population. Meanwhile, modeling suggests that BRCA mutation carriers should consider using the oral contraceptive pill for chemoprevention. In the general population, the largest ovarian cancer screening trial to date, the UK Collaborative Trial of Ovarian Cancer Screening reported a stage shift with annual multimodal screening using the longitudinal CA 125 Risk of Ovarian Cancer Algorithm but not with annual transvaginal ultrasound screening. There was no definitive mortality reduction with either screening strategy compared with no screening. Further follow-up until December 2018 in now underway. Stage shift and higher rates of optimal cytoreduction were also reported during 3- to 4-monthly multimodal screening in the United Kingdom and U.S. high-risk screening trials. Although all agree that there is not yet evidence to support general population screening, recommendations for high-risk screening vary between countries. A key finding from the screening trials has been the better performance of longitudinal algorithms compared with a single cutoff for CA 125. A major focus of ovarian cancer biomarker discovery work has been tumor DNA markers in both plasma and novel specimens such as cervical cytology samples."
      ]
     },
     "execution_count": 34,
     "metadata": {},
     "output_type": "execute_result"
    }
   ],
   "source": [
    "# doc2"
   ]
  },
  {
   "cell_type": "code",
   "execution_count": null,
   "id": "724fec1c-3bfa-4f6b-a5a6-19a771b08664",
   "metadata": {},
   "outputs": [],
   "source": []
  }
 ],
 "metadata": {
  "kernelspec": {
   "display_name": "poetry_relation_extraction_paper_chat",
   "language": "python",
   "name": "poetry_relation_extraction_paper_chat"
  },
  "language_info": {
   "codemirror_mode": {
    "name": "ipython",
    "version": 3
   },
   "file_extension": ".py",
   "mimetype": "text/x-python",
   "name": "python",
   "nbconvert_exporter": "python",
   "pygments_lexer": "ipython3",
   "version": "3.9.0"
  }
 },
 "nbformat": 4,
 "nbformat_minor": 5
}
