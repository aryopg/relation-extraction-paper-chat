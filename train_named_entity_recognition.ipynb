{
 "cells": [
  {
   "cell_type": "code",
   "execution_count": 75,
   "id": "bc81eeb1-fceb-49ec-a8f3-4e14886e117a",
   "metadata": {},
   "outputs": [
    {
     "name": "stdout",
     "output_type": "stream",
     "text": [
      "huggingface/tokenizers: The current process just got forked, after parallelism has already been used. Disabling parallelism to avoid deadlocks...\n",
      "To disable this warning, you can either:\n",
      "\t- Avoid using `tokenizers` before the fork if possible\n",
      "\t- Explicitly set the environment variable TOKENIZERS_PARALLELISM=(true | false)\n",
      "Collecting en-core-web-lg==3.3.0\n",
      "  Downloading https://github.com/explosion/spacy-models/releases/download/en_core_web_lg-3.3.0/en_core_web_lg-3.3.0-py3-none-any.whl (400.7 MB)\n",
      "     |████████████████████████████████| 400.7 MB 10 kB/s              \n",
      "\u001b[?25hRequirement already satisfied: spacy<3.4.0,>=3.3.0.dev0 in /Users/aryopg/Library/Caches/pypoetry/virtualenvs/relation-extraction-paper-chat-TlqBbrrO-py3.9/lib/python3.9/site-packages (from en-core-web-lg==3.3.0) (3.3.1)\n",
      "Requirement already satisfied: spacy-loggers<2.0.0,>=1.0.0 in /Users/aryopg/Library/Caches/pypoetry/virtualenvs/relation-extraction-paper-chat-TlqBbrrO-py3.9/lib/python3.9/site-packages (from spacy<3.4.0,>=3.3.0.dev0->en-core-web-lg==3.3.0) (1.0.2)\n",
      "Requirement already satisfied: packaging>=20.0 in /Users/aryopg/Library/Caches/pypoetry/virtualenvs/relation-extraction-paper-chat-TlqBbrrO-py3.9/lib/python3.9/site-packages (from spacy<3.4.0,>=3.3.0.dev0->en-core-web-lg==3.3.0) (21.3)\n",
      "Requirement already satisfied: langcodes<4.0.0,>=3.2.0 in /Users/aryopg/Library/Caches/pypoetry/virtualenvs/relation-extraction-paper-chat-TlqBbrrO-py3.9/lib/python3.9/site-packages (from spacy<3.4.0,>=3.3.0.dev0->en-core-web-lg==3.3.0) (3.3.0)\n",
      "Requirement already satisfied: srsly<3.0.0,>=2.4.3 in /Users/aryopg/Library/Caches/pypoetry/virtualenvs/relation-extraction-paper-chat-TlqBbrrO-py3.9/lib/python3.9/site-packages (from spacy<3.4.0,>=3.3.0.dev0->en-core-web-lg==3.3.0) (2.4.3)\n",
      "Requirement already satisfied: cymem<2.1.0,>=2.0.2 in /Users/aryopg/Library/Caches/pypoetry/virtualenvs/relation-extraction-paper-chat-TlqBbrrO-py3.9/lib/python3.9/site-packages (from spacy<3.4.0,>=3.3.0.dev0->en-core-web-lg==3.3.0) (2.0.6)\n",
      "Requirement already satisfied: jinja2 in /Users/aryopg/Library/Caches/pypoetry/virtualenvs/relation-extraction-paper-chat-TlqBbrrO-py3.9/lib/python3.9/site-packages (from spacy<3.4.0,>=3.3.0.dev0->en-core-web-lg==3.3.0) (3.1.2)\n",
      "Requirement already satisfied: thinc<8.1.0,>=8.0.14 in /Users/aryopg/Library/Caches/pypoetry/virtualenvs/relation-extraction-paper-chat-TlqBbrrO-py3.9/lib/python3.9/site-packages (from spacy<3.4.0,>=3.3.0.dev0->en-core-web-lg==3.3.0) (8.0.17)\n",
      "Requirement already satisfied: tqdm<5.0.0,>=4.38.0 in /Users/aryopg/Library/Caches/pypoetry/virtualenvs/relation-extraction-paper-chat-TlqBbrrO-py3.9/lib/python3.9/site-packages (from spacy<3.4.0,>=3.3.0.dev0->en-core-web-lg==3.3.0) (4.64.0)\n",
      "Requirement already satisfied: setuptools in /Users/aryopg/Library/Caches/pypoetry/virtualenvs/relation-extraction-paper-chat-TlqBbrrO-py3.9/lib/python3.9/site-packages (from spacy<3.4.0,>=3.3.0.dev0->en-core-web-lg==3.3.0) (60.2.0)\n",
      "Requirement already satisfied: pydantic!=1.8,!=1.8.1,<1.9.0,>=1.7.4 in /Users/aryopg/Library/Caches/pypoetry/virtualenvs/relation-extraction-paper-chat-TlqBbrrO-py3.9/lib/python3.9/site-packages (from spacy<3.4.0,>=3.3.0.dev0->en-core-web-lg==3.3.0) (1.8.2)\n",
      "Requirement already satisfied: spacy-legacy<3.1.0,>=3.0.9 in /Users/aryopg/Library/Caches/pypoetry/virtualenvs/relation-extraction-paper-chat-TlqBbrrO-py3.9/lib/python3.9/site-packages (from spacy<3.4.0,>=3.3.0.dev0->en-core-web-lg==3.3.0) (3.0.9)\n",
      "Requirement already satisfied: blis<0.8.0,>=0.4.0 in /Users/aryopg/Library/Caches/pypoetry/virtualenvs/relation-extraction-paper-chat-TlqBbrrO-py3.9/lib/python3.9/site-packages (from spacy<3.4.0,>=3.3.0.dev0->en-core-web-lg==3.3.0) (0.7.8)\n",
      "Requirement already satisfied: preshed<3.1.0,>=3.0.2 in /Users/aryopg/Library/Caches/pypoetry/virtualenvs/relation-extraction-paper-chat-TlqBbrrO-py3.9/lib/python3.9/site-packages (from spacy<3.4.0,>=3.3.0.dev0->en-core-web-lg==3.3.0) (3.0.6)\n",
      "Requirement already satisfied: pathy>=0.3.5 in /Users/aryopg/Library/Caches/pypoetry/virtualenvs/relation-extraction-paper-chat-TlqBbrrO-py3.9/lib/python3.9/site-packages (from spacy<3.4.0,>=3.3.0.dev0->en-core-web-lg==3.3.0) (0.6.2)\n",
      "Requirement already satisfied: typer<0.5.0,>=0.3.0 in /Users/aryopg/Library/Caches/pypoetry/virtualenvs/relation-extraction-paper-chat-TlqBbrrO-py3.9/lib/python3.9/site-packages (from spacy<3.4.0,>=3.3.0.dev0->en-core-web-lg==3.3.0) (0.4.2)\n",
      "Requirement already satisfied: requests<3.0.0,>=2.13.0 in /Users/aryopg/Library/Caches/pypoetry/virtualenvs/relation-extraction-paper-chat-TlqBbrrO-py3.9/lib/python3.9/site-packages (from spacy<3.4.0,>=3.3.0.dev0->en-core-web-lg==3.3.0) (2.28.1)\n",
      "Requirement already satisfied: catalogue<2.1.0,>=2.0.6 in /Users/aryopg/Library/Caches/pypoetry/virtualenvs/relation-extraction-paper-chat-TlqBbrrO-py3.9/lib/python3.9/site-packages (from spacy<3.4.0,>=3.3.0.dev0->en-core-web-lg==3.3.0) (2.0.7)\n",
      "Requirement already satisfied: murmurhash<1.1.0,>=0.28.0 in /Users/aryopg/Library/Caches/pypoetry/virtualenvs/relation-extraction-paper-chat-TlqBbrrO-py3.9/lib/python3.9/site-packages (from spacy<3.4.0,>=3.3.0.dev0->en-core-web-lg==3.3.0) (1.0.7)\n",
      "Requirement already satisfied: numpy>=1.15.0 in /Users/aryopg/Library/Caches/pypoetry/virtualenvs/relation-extraction-paper-chat-TlqBbrrO-py3.9/lib/python3.9/site-packages (from spacy<3.4.0,>=3.3.0.dev0->en-core-web-lg==3.3.0) (1.23.0)\n",
      "Requirement already satisfied: wasabi<1.1.0,>=0.9.1 in /Users/aryopg/Library/Caches/pypoetry/virtualenvs/relation-extraction-paper-chat-TlqBbrrO-py3.9/lib/python3.9/site-packages (from spacy<3.4.0,>=3.3.0.dev0->en-core-web-lg==3.3.0) (0.9.1)\n",
      "Requirement already satisfied: pyparsing!=3.0.5,>=2.0.2 in /Users/aryopg/Library/Caches/pypoetry/virtualenvs/relation-extraction-paper-chat-TlqBbrrO-py3.9/lib/python3.9/site-packages (from packaging>=20.0->spacy<3.4.0,>=3.3.0.dev0->en-core-web-lg==3.3.0) (3.0.9)\n",
      "Requirement already satisfied: smart-open<6.0.0,>=5.2.1 in /Users/aryopg/Library/Caches/pypoetry/virtualenvs/relation-extraction-paper-chat-TlqBbrrO-py3.9/lib/python3.9/site-packages (from pathy>=0.3.5->spacy<3.4.0,>=3.3.0.dev0->en-core-web-lg==3.3.0) (5.2.1)\n",
      "Requirement already satisfied: typing-extensions>=3.7.4.3 in /Users/aryopg/Library/Caches/pypoetry/virtualenvs/relation-extraction-paper-chat-TlqBbrrO-py3.9/lib/python3.9/site-packages (from pydantic!=1.8,!=1.8.1,<1.9.0,>=1.7.4->spacy<3.4.0,>=3.3.0.dev0->en-core-web-lg==3.3.0) (4.3.0)\n",
      "Requirement already satisfied: charset-normalizer<3,>=2 in /Users/aryopg/Library/Caches/pypoetry/virtualenvs/relation-extraction-paper-chat-TlqBbrrO-py3.9/lib/python3.9/site-packages (from requests<3.0.0,>=2.13.0->spacy<3.4.0,>=3.3.0.dev0->en-core-web-lg==3.3.0) (2.1.0)\n",
      "Requirement already satisfied: urllib3<1.27,>=1.21.1 in /Users/aryopg/Library/Caches/pypoetry/virtualenvs/relation-extraction-paper-chat-TlqBbrrO-py3.9/lib/python3.9/site-packages (from requests<3.0.0,>=2.13.0->spacy<3.4.0,>=3.3.0.dev0->en-core-web-lg==3.3.0) (1.26.9)\n",
      "Requirement already satisfied: idna<4,>=2.5 in /Users/aryopg/Library/Caches/pypoetry/virtualenvs/relation-extraction-paper-chat-TlqBbrrO-py3.9/lib/python3.9/site-packages (from requests<3.0.0,>=2.13.0->spacy<3.4.0,>=3.3.0.dev0->en-core-web-lg==3.3.0) (3.3)\n",
      "Requirement already satisfied: certifi>=2017.4.17 in /Users/aryopg/Library/Caches/pypoetry/virtualenvs/relation-extraction-paper-chat-TlqBbrrO-py3.9/lib/python3.9/site-packages (from requests<3.0.0,>=2.13.0->spacy<3.4.0,>=3.3.0.dev0->en-core-web-lg==3.3.0) (2022.6.15)\n",
      "Requirement already satisfied: click<9.0.0,>=7.1.1 in /Users/aryopg/Library/Caches/pypoetry/virtualenvs/relation-extraction-paper-chat-TlqBbrrO-py3.9/lib/python3.9/site-packages (from typer<0.5.0,>=0.3.0->spacy<3.4.0,>=3.3.0.dev0->en-core-web-lg==3.3.0) (8.0.4)\n",
      "Requirement already satisfied: MarkupSafe>=2.0 in /Users/aryopg/Library/Caches/pypoetry/virtualenvs/relation-extraction-paper-chat-TlqBbrrO-py3.9/lib/python3.9/site-packages (from jinja2->spacy<3.4.0,>=3.3.0.dev0->en-core-web-lg==3.3.0) (2.1.1)\n",
      "Installing collected packages: en-core-web-lg\n",
      "Successfully installed en-core-web-lg-3.3.0\n",
      "\u001b[33mWARNING: You are using pip version 21.3.1; however, version 22.1.2 is available.\n",
      "You should consider upgrading via the '/Users/aryopg/Library/Caches/pypoetry/virtualenvs/relation-extraction-paper-chat-TlqBbrrO-py3.9/bin/python -m pip install --upgrade pip' command.\u001b[0m\n",
      "\u001b[38;5;2m✔ Download and installation successful\u001b[0m\n",
      "You can now load the package via spacy.load('en_core_web_lg')\n"
     ]
    }
   ],
   "source": [
    "import spacy\n",
    "!python -m spacy download en_core_web_lg"
   ]
  },
  {
   "cell_type": "code",
   "execution_count": 76,
   "id": "50c02e0f-ba59-4167-bfbe-cd44dc314105",
   "metadata": {},
   "outputs": [
    {
     "data": {
      "text/plain": [
       "['tok2vec', 'tagger', 'parser', 'attribute_ruler', 'lemmatizer', 'ner']"
      ]
     },
     "execution_count": 76,
     "metadata": {},
     "output_type": "execute_result"
    }
   ],
   "source": [
    "nlp=spacy.load('en_core_web_lg')\n",
    "nlp.pipe_names\n",
    "# from spacy.language import Language\n",
    "# nlp = spacy.load(\n",
    "#     \"/Users/aryopg/Documents/learning/relation-extraction-paper-chat/md_ner_classifier\"\n",
    "# )"
   ]
  },
  {
   "cell_type": "code",
   "execution_count": 77,
   "id": "f3235c19-3332-40cc-8e87-ab4c59ac255a",
   "metadata": {},
   "outputs": [],
   "source": [
    "import pickle\n",
    "import kindred\n",
    "\n",
    "corpus = kindred.load(\"pubannotation\", \"/Users/aryopg/Downloads/AGAC_training/json\")"
   ]
  },
  {
   "cell_type": "code",
   "execution_count": 78,
   "id": "1f15260e-8706-4bc0-b2d7-63395f4809f9",
   "metadata": {},
   "outputs": [],
   "source": [
    "spacy_training_corpus = []\n",
    "for doc in corpus.documents:\n",
    "    text = doc.text\n",
    "    entities = []\n",
    "    for entity in doc.entities:\n",
    "        entity_position = entity.position\n",
    "        entity_type = entity.entityType\n",
    "        entities += [(entity_position[0][0], entity_position[0][1], entity_type)]\n",
    "    spacy_training_corpus += [(text, {\"entities\": list(set(entities))})]"
   ]
  },
  {
   "cell_type": "code",
   "execution_count": 79,
   "id": "ffad4ab6-0f60-481b-b95e-ead5c3f05325",
   "metadata": {},
   "outputs": [
    {
     "data": {
      "text/plain": [
       "['tok2vec', 'tagger', 'parser', 'attribute_ruler', 'lemmatizer']"
      ]
     },
     "execution_count": 79,
     "metadata": {},
     "output_type": "execute_result"
    }
   ],
   "source": [
    "pipe_exceptions = [\"transformer\", \"ner\"]\n",
    "unaffected_pipes = [pipe for pipe in nlp.pipe_names if pipe not in pipe_exceptions]\n",
    "unaffected_pipes"
   ]
  },
  {
   "cell_type": "code",
   "execution_count": 80,
   "id": "8e2408d8-812c-4116-90ac-2b27c8064d74",
   "metadata": {},
   "outputs": [],
   "source": [
    "import random\n",
    "from spacy.util import minibatch, compounding\n",
    "from pathlib import Path\n",
    "from spacy.training import Example"
   ]
  },
  {
   "cell_type": "code",
   "execution_count": 91,
   "id": "b4f37e3f-dd18-475a-bd85-811920e9ccec",
   "metadata": {
    "tags": []
   },
   "outputs": [
    {
     "name": "stdout",
     "output_type": "stream",
     "text": [
      "Iteration: 0; Losses:  {'ner': 3130.407035167657}\n",
      "Iteration: 1; Losses:  {'ner': 3047.2624072784247}\n",
      "Iteration: 2; Losses:  {'ner': 2960.83178543289}\n",
      "Iteration: 3; Losses:  {'ner': 2976.3676830373456}\n",
      "Iteration: 4; Losses:  {'ner': 2946.5863957378324}\n",
      "Iteration: 5; Losses:  {'ner': 3011.5531580573825}\n",
      "Iteration: 6; Losses:  {'ner': 2912.2483507757306}\n",
      "Iteration: 7; Losses:  {'ner': 2860.424510903668}\n",
      "Iteration: 8; Losses:  {'ner': 2807.3608337102332}\n",
      "Iteration: 9; Losses:  {'ner': 2776.684142934905}\n",
      "Iteration: 10; Losses:  {'ner': 2844.0118180559416}\n",
      "Iteration: 11; Losses:  {'ner': 2859.5023181650367}\n",
      "Iteration: 12; Losses:  {'ner': 2796.389600234484}\n",
      "Iteration: 13; Losses:  {'ner': 2695.8637075458687}\n",
      "Iteration: 14; Losses:  {'ner': 2644.7818246029638}\n",
      "Iteration: 15; Losses:  {'ner': 2617.9777827933895}\n",
      "Iteration: 16; Losses:  {'ner': 2669.9295745796976}\n",
      "Iteration: 17; Losses:  {'ner': 2686.8644019632584}\n",
      "Iteration: 18; Losses:  {'ner': 2610.8030630889534}\n",
      "Iteration: 19; Losses:  {'ner': 2586.1016768162685}\n",
      "Iteration: 20; Losses:  {'ner': 2558.851230750451}\n",
      "Iteration: 21; Losses:  {'ner': 2454.426224792586}\n",
      "Iteration: 22; Losses:  {'ner': 2605.6536670412415}\n",
      "Iteration: 23; Losses:  {'ner': 2539.585028679515}\n",
      "Iteration: 24; Losses:  {'ner': 2388.7557772382174}\n",
      "Iteration: 25; Losses:  {'ner': 2528.745438517035}\n",
      "Iteration: 26; Losses:  {'ner': 2467.4309834642163}\n",
      "Iteration: 27; Losses:  {'ner': 2440.462733581888}\n",
      "Iteration: 28; Losses:  {'ner': 2409.1920873793797}\n",
      "Iteration: 29; Losses:  {'ner': 2489.331572608655}\n"
     ]
    }
   ],
   "source": [
    "with nlp.disable_pipes(*unaffected_pipes):\n",
    "    for iteration in range(30):\n",
    "        random.shuffle(spacy_training_corpus)\n",
    "        losses = {}\n",
    "\n",
    "        batches = minibatch(spacy_training_corpus, size=compounding(4.0, 32.0, 1.001))\n",
    "        for batch in batches:\n",
    "            examples = []\n",
    "            for text, annotations in batch:\n",
    "                doc = nlp.make_doc(text)\n",
    "                example = Example.from_dict(doc, annotations)\n",
    "                examples += [example]\n",
    "            nlp.update(\n",
    "                examples,\n",
    "                drop=0.5,  # dropout - make it harder to memorise data\n",
    "                losses=losses,\n",
    "            )\n",
    "        print(f\"Iteration: {iteration}; Losses: \", losses)"
   ]
  },
  {
   "cell_type": "code",
   "execution_count": 92,
   "id": "3750ad96-a1a9-4563-942e-4b3d03597841",
   "metadata": {},
   "outputs": [],
   "source": [
    "doc = nlp(\"Effects of a leukemia-associated gain-of-function mutation of SHP-2 phosphatase on interleukin-3 signaling.\\nMutations in SHP-2 phosphatase that cause hyperactivation of its catalytic activity have been identified in human leukemias, particularly juvenile myelomonocytic leukemia, which is characterized by hypersensitivity of myeloid progenitor cells to granulocyte macrophage colony-stimulating factor and interleukin (IL)-3. However, the molecular mechanisms by which gain-of-function (GOF) mutations of SHP-2 induce hematopoietic malignancies are not fully understood. Our previous studies have shown that SHP-2 plays an essential role in IL-3 signal transduction in both catalytic-dependent and -independent manners and that overexpression (5-6-fold) of wild type (WT) SHP-2 attenuates IL-3-mediated hematopoietic cell function through accelerated dephosphorylation of STAT5. These results raised the possibility that SHP-2-associated leukemias are not solely attributed to the increased catalytic activity of GOF mutant SHP-2. GOF mutant SHP-2 must have gained additional capacities. To test this possibility, we investigated effects of a GOF mutation of SHP-2 (SHP-2 E76K) on hematopoietic cell function and IL-3 signal transduction by comparing with those of overexpressed WT SHP-2. Our results showed that SHP-2 E76K mutation caused myeloproliferative disease in mice, while overexpression of WT SHP-2 decreased hematopoietic potential of the transduced cells in recipient animals. The E76K mutation in the N-terminal Src homology 2 domain increased interactions of mutant SHP-2 with Grb2, Gab2, and p85, leading to hyperactivation of IL-3-induced Erk and phosphatidylinositol 3-kinase (PI3K) pathways. In addition, despite the substantial increase in the catalytic activity, dephosphorylation of STAT5 by SHP-2 E76K was dampened. Furthermore, catalytically inactive SHP-2 E76K with an additional C459S mutation retained the capability to increase the interaction with Gab2 and to enhance the activation of the PI3K pathway. Taken together, these studies suggest that in addition to the elevated catalytic activity, fundamental changes in physical and functional interactions between GOF mutant SHP-2 and signaling partners also play an important role in SHP-2-related leukemigenesis.\")"
   ]
  },
  {
   "cell_type": "code",
   "execution_count": 93,
   "id": "d86d51bf-706f-477e-8270-e15a0908525c",
   "metadata": {},
   "outputs": [
    {
     "name": "stdout",
     "output_type": "stream",
     "text": [
      "SHP-2 - Gene\n",
      "phosphatase - Enzyme\n",
      "hyperactivation - PosReg\n",
      "catalytic activity - MPA\n",
      "leukemias - Disease\n",
      "juvenile myelomonocytic leukemia - Disease\n",
      "mutations - Var\n",
      "SHP-2 - Gene\n",
      "E76K - Var\n",
      "SHP-2 - Gene\n",
      "E76K mutation - Var\n",
      "myeloproliferative disease - Disease\n",
      "E76K mutation - Var\n",
      "increased - PosReg\n",
      "interactions - Interaction\n",
      "mutant - Var\n",
      "SHP-2 - Gene\n",
      "Grb2 - Protein\n",
      "hyperactivation - PosReg\n",
      "IL-3-induced Erk and phosphatidylinositol 3-kinase (PI3K) pathways - Pathway\n",
      "catalytic activity - MPA\n",
      "dephosphorylation of STAT5 - MPA\n",
      "SHP-2 - Gene\n",
      "E76K - Var\n",
      "dampened - NegReg\n",
      "SHP-2 - Gene\n",
      "E76K - Var\n",
      "C459S - Var\n",
      "increase - PosReg\n",
      "interaction - Interaction\n",
      "Gab2 - Protein\n",
      "enhance - PosReg\n",
      "activation - PosReg\n",
      "PI3K pathway - Pathway\n",
      "elevated - PosReg\n"
     ]
    }
   ],
   "source": [
    "for ent in doc.ents:\n",
    "    print(f\"{ent.text} - {ent.label_}\")"
   ]
  },
  {
   "cell_type": "code",
   "execution_count": 94,
   "id": "7f322212-1ea0-4834-b9c1-26d1e082c304",
   "metadata": {},
   "outputs": [
    {
     "name": "stdout",
     "output_type": "stream",
     "text": [
      "High-grade serous ovarian carcinoma - Disease\n",
      "HGSOC - Gene\n"
     ]
    }
   ],
   "source": [
    "doc = nlp(\"High-grade serous ovarian carcinoma (HGSOC) is clinically dominant and accounts for ~ 80% deaths in all types of ovarian cancer. The delayed diagnosis, rapid development, and wide dissemination of HGSOC collectively contribute to its high mortality rate and poor prognosis in the patients. Suppressors of cytokine signaling 7 (SOCS7) can regulate cytokine signaling and participate in cell cycle arrest and regulation of cell proliferation, which might also be involved in carcinogenesis. Here, we designated to investigate the functions and mechanisms of SOCS7 in HGSOC.\")\n",
    "for ent in doc.ents:\n",
    "    print(f\"{ent.text} - {ent.label_}\")"
   ]
  },
  {
   "cell_type": "code",
   "execution_count": 95,
   "id": "860d2261-dea2-401b-8e9d-917bb52c22c3",
   "metadata": {},
   "outputs": [],
   "source": [
    "nlp.to_disk(\"lg_ner_classifier_90\")"
   ]
  },
  {
   "cell_type": "code",
   "execution_count": 16,
   "id": "20a5b0a6-2f19-44a9-93dc-6afc279c6cba",
   "metadata": {},
   "outputs": [],
   "source": [
    "# import kindred"
   ]
  },
  {
   "cell_type": "code",
   "execution_count": 18,
   "id": "632730a0-96d7-4dc9-a4f4-66cb8f812a26",
   "metadata": {},
   "outputs": [],
   "source": [
    "# entities = []\n",
    "# for entity in doc.ents:\n",
    "#     entities += [kindred.Entity(entity.label_, entity.text, [(entity.start_char, entity.end_char)])]\n",
    "# kindred_doc = kindred.Document(text=doc.text, entities=entities)"
   ]
  },
  {
   "cell_type": "code",
   "execution_count": 19,
   "id": "01b71978-05a0-4d22-aef5-3576fa610726",
   "metadata": {},
   "outputs": [
    {
     "data": {
      "text/plain": [
       "<Document Effects of a leukemia-associated gain-of-function mutation of SHP-2 phosphatase on interleukin-3 signaling.\n",
       "Mutations in SHP-2 phosphatase that cause hyperactivation of its catalytic activity have been identified in human leukemias, particularly juvenile myelomonocytic leukemia, which is characterized by hypersensitivity of myeloid progenitor cells to granulocyte macrophage colony-stimulating factor and interleukin (IL)-3. However, the molecular mechanisms by which gain-of-function (GOF) mutations of SHP-2 induce hematopoietic malignancies are not fully understood. Our previous studies have shown that SHP-2 plays an essential role in IL-3 signal transduction in both catalytic-dependent and -independent manners and that overexpression (5-6-fold) of wild type (WT) SHP-2 attenuates IL-3-mediated hematopoietic cell function through accelerated dephosphorylation of STAT5. These results raised the possibility that SHP-2-associated leukemias are not solely attributed to the increased catalytic activity of GOF mutant SHP-2. GOF mutant SHP-2 must have gained additional capacities. To test this possibility, we investigated effects of a GOF mutation of SHP-2 (SHP-2 E76K) on hematopoietic cell function and IL-3 signal transduction by comparing with those of overexpressed WT SHP-2. Our results showed that SHP-2 E76K mutation caused myeloproliferative disease in mice, while overexpression of WT SHP-2 decreased hematopoietic potential of the transduced cells in recipient animals. The E76K mutation in the N-terminal Src homology 2 domain increased interactions of mutant SHP-2 with Grb2, Gab2, and p85, leading to hyperactivation of IL-3-induced Erk and phosphatidylinositol 3-kinase (PI3K) pathways. In addition, despite the substantial increase in the catalytic activity, dephosphorylation of STAT5 by SHP-2 E76K was dampened. Furthermore, catalytically inactive SHP-2 E76K with an additional C459S mutation retained the capability to increase the interaction with Gab2 and to enhance the activation of the PI3K pathway. Taken together, these studies suggest that in addition to the elevated catalytic activity, fundamental changes in physical and functional interactions between GOF mutant SHP-2 and signaling partners also play an important role in SHP-2-related leukemigenesis. [<Entity Var:'Mutations' sourceid=None [(108, 117)]>, <Entity Gene:'SHP-2' sourceid=None [(121, 126)]>, <Entity Enzyme:'phosphatase' sourceid=None [(127, 138)]>, <Entity PosReg:'hyperactivation' sourceid=None [(150, 165)]>, <Entity MPA:'catalytic activity' sourceid=None [(173, 191)]>, <Entity Disease:'leukemias' sourceid=None [(222, 231)]>, <Entity Disease:'juvenile myelomonocytic leukemia' sourceid=None [(246, 278)]>, <Entity Gene:'SHP-2' sourceid=None [(1314, 1319)]>, <Entity Var:'E76K mutation' sourceid=None [(1320, 1333)]>, <Entity Disease:'myeloproliferative disease' sourceid=None [(1341, 1367)]>, <Entity Var:'E76K' sourceid=None [(1494, 1498)]>, <Entity PosReg:'increased' sourceid=None [(1548, 1557)]>, <Entity Interaction:'interactions' sourceid=None [(1558, 1570)]>, <Entity Var:'mutant' sourceid=None [(1574, 1580)]>, <Entity Gene:'SHP-2' sourceid=None [(1581, 1586)]>, <Entity Protein:'Grb2' sourceid=None [(1592, 1596)]>, <Entity PosReg:'hyperactivation' sourceid=None [(1624, 1639)]>, <Entity Pathway:'IL-3-induced Erk and phosphatidylinositol 3-kinase (PI3K) pathways' sourceid=None [(1643, 1709)]>, <Entity PosReg:'increase' sourceid=None [(1748, 1756)]>, <Entity MPA:'catalytic activity' sourceid=None [(1764, 1782)]>, <Entity MPA:'dephosphorylation of STAT5' sourceid=None [(1784, 1810)]>, <Entity Gene:'SHP-2' sourceid=None [(1814, 1819)]>, <Entity Var:'E76K' sourceid=None [(1820, 1824)]>, <Entity NegReg:'dampened' sourceid=None [(1829, 1837)]>, <Entity Gene:'SHP-2' sourceid=None [(1875, 1880)]>, <Entity Var:'E76K' sourceid=None [(1881, 1885)]>, <Entity Var:'C459S' sourceid=None [(1905, 1910)]>, <Entity PosReg:'increase' sourceid=None [(1947, 1955)]>, <Entity Interaction:'interaction' sourceid=None [(1960, 1971)]>, <Entity Protein:'Gab2' sourceid=None [(1977, 1981)]>, <Entity PosReg:'enhance' sourceid=None [(1989, 1996)]>, <Entity Pathway:'PI3K pathway' sourceid=None [(2019, 2031)]>] []>"
      ]
     },
     "execution_count": 19,
     "metadata": {},
     "output_type": "execute_result"
    }
   ],
   "source": [
    "# kindred_doc"
   ]
  },
  {
   "cell_type": "code",
   "execution_count": 22,
   "id": "076c374f-f0c8-4e5e-b332-65c2317b4cdd",
   "metadata": {},
   "outputs": [],
   "source": [
    "# kindred_corpus = kindred.Corpus()\n",
    "# kindred_corpus.addDocument(kindred_doc)"
   ]
  },
  {
   "cell_type": "code",
   "execution_count": 55,
   "id": "d0374ddd-1393-4802-87fb-1e4726404e3e",
   "metadata": {},
   "outputs": [],
   "source": [
    "# with open(\"classifier.pickle\", \"rb\") as model_file:\n",
    "#     re_model = pickle.load(model_file)"
   ]
  },
  {
   "cell_type": "code",
   "execution_count": 56,
   "id": "32910afe-cb39-42a0-9a11-01a3f401fc15",
   "metadata": {},
   "outputs": [],
   "source": [
    "# re_model.predict(kindred_corpus)"
   ]
  },
  {
   "cell_type": "code",
   "execution_count": 57,
   "id": "507e2be7-e96f-4afb-9049-8b399f3278a8",
   "metadata": {},
   "outputs": [
    {
     "data": {
      "text/plain": [
       "[<Relation CauseOf [<Entity Var:'Mutations' sourceid=None [(108, 117)]>, <Entity PosReg:'hyperactivation' sourceid=None [(150, 165)]>] ['subj', 'obj']>,\n",
       " <Relation ThemeOf [<Entity Gene:'SHP-2' sourceid=None [(121, 126)]>, <Entity Var:'Mutations' sourceid=None [(108, 117)]>] ['subj', 'obj']>,\n",
       " <Relation ThemeOf [<Entity Enzyme:'phosphatase' sourceid=None [(127, 138)]>, <Entity Var:'Mutations' sourceid=None [(108, 117)]>] ['subj', 'obj']>,\n",
       " <Relation ThemeOf [<Entity MPA:'catalytic activity' sourceid=None [(173, 191)]>, <Entity PosReg:'hyperactivation' sourceid=None [(150, 165)]>] ['subj', 'obj']>,\n",
       " <Relation ThemeOf [<Entity Disease:'leukemias' sourceid=None [(222, 231)]>, <Entity MPA:'catalytic activity' sourceid=None [(173, 191)]>] ['subj', 'obj']>,\n",
       " <Relation ThemeOf [<Entity Disease:'juvenile myelomonocytic leukemia' sourceid=None [(246, 278)]>, <Entity MPA:'catalytic activity' sourceid=None [(173, 191)]>] ['subj', 'obj']>,\n",
       " <Relation ThemeOf [<Entity Gene:'SHP-2' sourceid=None [(1314, 1319)]>, <Entity Var:'E76K mutation' sourceid=None [(1320, 1333)]>] ['subj', 'obj']>,\n",
       " <Relation CauseOf [<Entity Var:'E76K' sourceid=None [(1494, 1498)]>, <Entity PosReg:'increased' sourceid=None [(1548, 1557)]>] ['subj', 'obj']>,\n",
       " <Relation ThemeOf [<Entity Interaction:'interactions' sourceid=None [(1558, 1570)]>, <Entity PosReg:'increased' sourceid=None [(1548, 1557)]>] ['subj', 'obj']>,\n",
       " <Relation CauseOf [<Entity Var:'mutant' sourceid=None [(1574, 1580)]>, <Entity PosReg:'increased' sourceid=None [(1548, 1557)]>] ['subj', 'obj']>,\n",
       " <Relation CauseOf [<Entity Var:'mutant' sourceid=None [(1574, 1580)]>, <Entity PosReg:'hyperactivation' sourceid=None [(1624, 1639)]>] ['subj', 'obj']>,\n",
       " <Relation ThemeOf [<Entity Gene:'SHP-2' sourceid=None [(1581, 1586)]>, <Entity Interaction:'interactions' sourceid=None [(1558, 1570)]>] ['subj', 'obj']>,\n",
       " <Relation ThemeOf [<Entity Gene:'SHP-2' sourceid=None [(1581, 1586)]>, <Entity Var:'mutant' sourceid=None [(1574, 1580)]>] ['subj', 'obj']>,\n",
       " <Relation ThemeOf [<Entity Protein:'Grb2' sourceid=None [(1592, 1596)]>, <Entity Interaction:'interactions' sourceid=None [(1558, 1570)]>] ['subj', 'obj']>,\n",
       " <Relation ThemeOf [<Entity Pathway:'IL-3-induced Erk and phosphatidylinositol 3-kinase (PI3K) pathways' sourceid=None [(1643, 1709)]>, <Entity PosReg:'hyperactivation' sourceid=None [(1624, 1639)]>] ['subj', 'obj']>,\n",
       " <Relation CauseOf [<Entity PosReg:'increase' sourceid=None [(1748, 1756)]>, <Entity NegReg:'dampened' sourceid=None [(1829, 1837)]>] ['subj', 'obj']>,\n",
       " <Relation ThemeOf [<Entity MPA:'catalytic activity' sourceid=None [(1764, 1782)]>, <Entity PosReg:'increase' sourceid=None [(1748, 1756)]>] ['subj', 'obj']>,\n",
       " <Relation ThemeOf [<Entity MPA:'dephosphorylation of STAT5' sourceid=None [(1784, 1810)]>, <Entity NegReg:'dampened' sourceid=None [(1829, 1837)]>] ['subj', 'obj']>,\n",
       " <Relation ThemeOf [<Entity Gene:'SHP-2' sourceid=None [(1814, 1819)]>, <Entity Var:'E76K' sourceid=None [(1820, 1824)]>] ['subj', 'obj']>,\n",
       " <Relation ThemeOf [<Entity Gene:'SHP-2' sourceid=None [(1814, 1819)]>, <Entity NegReg:'dampened' sourceid=None [(1829, 1837)]>] ['subj', 'obj']>,\n",
       " <Relation CauseOf [<Entity Var:'E76K' sourceid=None [(1820, 1824)]>, <Entity PosReg:'increase' sourceid=None [(1748, 1756)]>] ['subj', 'obj']>,\n",
       " <Relation CauseOf [<Entity Var:'E76K' sourceid=None [(1820, 1824)]>, <Entity MPA:'dephosphorylation of STAT5' sourceid=None [(1784, 1810)]>] ['subj', 'obj']>,\n",
       " <Relation CauseOf [<Entity Var:'E76K' sourceid=None [(1820, 1824)]>, <Entity NegReg:'dampened' sourceid=None [(1829, 1837)]>] ['subj', 'obj']>,\n",
       " <Relation CauseOf [<Entity NegReg:'dampened' sourceid=None [(1829, 1837)]>, <Entity PosReg:'increase' sourceid=None [(1748, 1756)]>] ['subj', 'obj']>,\n",
       " <Relation ThemeOf [<Entity Gene:'SHP-2' sourceid=None [(1875, 1880)]>, <Entity Var:'E76K' sourceid=None [(1881, 1885)]>] ['subj', 'obj']>,\n",
       " <Relation CauseOf [<Entity Var:'E76K' sourceid=None [(1881, 1885)]>, <Entity PosReg:'increase' sourceid=None [(1947, 1955)]>] ['subj', 'obj']>,\n",
       " <Relation CauseOf [<Entity Var:'E76K' sourceid=None [(1881, 1885)]>, <Entity PosReg:'enhance' sourceid=None [(1989, 1996)]>] ['subj', 'obj']>,\n",
       " <Relation CauseOf [<Entity Var:'C459S' sourceid=None [(1905, 1910)]>, <Entity PosReg:'increase' sourceid=None [(1947, 1955)]>] ['subj', 'obj']>,\n",
       " <Relation CauseOf [<Entity Var:'C459S' sourceid=None [(1905, 1910)]>, <Entity PosReg:'enhance' sourceid=None [(1989, 1996)]>] ['subj', 'obj']>,\n",
       " <Relation ThemeOf [<Entity Interaction:'interaction' sourceid=None [(1960, 1971)]>, <Entity PosReg:'increase' sourceid=None [(1947, 1955)]>] ['subj', 'obj']>,\n",
       " <Relation ThemeOf [<Entity Protein:'Gab2' sourceid=None [(1977, 1981)]>, <Entity PosReg:'increase' sourceid=None [(1947, 1955)]>] ['subj', 'obj']>,\n",
       " <Relation ThemeOf [<Entity Pathway:'PI3K pathway' sourceid=None [(2019, 2031)]>, <Entity PosReg:'enhance' sourceid=None [(1989, 1996)]>] ['subj', 'obj']>,\n",
       " <Relation CauseOf [<Entity Var:'Mutations' sourceid=None [(108, 117)]>, <Entity MPA:'catalytic activity' sourceid=None [(173, 191)]>] ['subj', 'obj']>,\n",
       " <Relation CauseOf [<Entity Var:'Mutations' sourceid=None [(108, 117)]>, <Entity Disease:'leukemias' sourceid=None [(222, 231)]>] ['subj', 'obj']>,\n",
       " <Relation ThemeOf [<Entity Gene:'SHP-2' sourceid=None [(121, 126)]>, <Entity Enzyme:'phosphatase' sourceid=None [(127, 138)]>] ['subj', 'obj']>,\n",
       " <Relation ThemeOf [<Entity Enzyme:'phosphatase' sourceid=None [(127, 138)]>, <Entity Gene:'SHP-2' sourceid=None [(121, 126)]>] ['subj', 'obj']>,\n",
       " <Relation ThemeOf [<Entity Disease:'leukemias' sourceid=None [(222, 231)]>, <Entity PosReg:'hyperactivation' sourceid=None [(150, 165)]>] ['subj', 'obj']>,\n",
       " <Relation ThemeOf [<Entity Disease:'juvenile myelomonocytic leukemia' sourceid=None [(246, 278)]>, <Entity PosReg:'hyperactivation' sourceid=None [(150, 165)]>] ['subj', 'obj']>,\n",
       " <Relation CauseOf [<Entity Var:'E76K mutation' sourceid=None [(1320, 1333)]>, <Entity Disease:'myeloproliferative disease' sourceid=None [(1341, 1367)]>] ['subj', 'obj']>,\n",
       " <Relation CauseOf [<Entity Var:'E76K' sourceid=None [(1494, 1498)]>, <Entity PosReg:'hyperactivation' sourceid=None [(1624, 1639)]>] ['subj', 'obj']>,\n",
       " <Relation CauseOf [<Entity PosReg:'increased' sourceid=None [(1548, 1557)]>, <Entity PosReg:'hyperactivation' sourceid=None [(1624, 1639)]>] ['subj', 'obj']>,\n",
       " <Relation ThemeOf [<Entity Var:'mutant' sourceid=None [(1574, 1580)]>, <Entity Interaction:'interactions' sourceid=None [(1558, 1570)]>] ['subj', 'obj']>,\n",
       " <Relation CauseOf [<Entity PosReg:'hyperactivation' sourceid=None [(1624, 1639)]>, <Entity PosReg:'increased' sourceid=None [(1548, 1557)]>] ['subj', 'obj']>,\n",
       " <Relation ThemeOf [<Entity MPA:'dephosphorylation of STAT5' sourceid=None [(1784, 1810)]>, <Entity PosReg:'increase' sourceid=None [(1748, 1756)]>] ['subj', 'obj']>,\n",
       " <Relation ThemeOf [<Entity MPA:'dephosphorylation of STAT5' sourceid=None [(1784, 1810)]>, <Entity MPA:'catalytic activity' sourceid=None [(1764, 1782)]>] ['subj', 'obj']>,\n",
       " <Relation ThemeOf [<Entity Gene:'SHP-2' sourceid=None [(1814, 1819)]>, <Entity PosReg:'increase' sourceid=None [(1748, 1756)]>] ['subj', 'obj']>,\n",
       " <Relation ThemeOf [<Entity Gene:'SHP-2' sourceid=None [(1814, 1819)]>, <Entity MPA:'dephosphorylation of STAT5' sourceid=None [(1784, 1810)]>] ['subj', 'obj']>,\n",
       " <Relation ThemeOf [<Entity Var:'E76K' sourceid=None [(1820, 1824)]>, <Entity NegReg:'dampened' sourceid=None [(1829, 1837)]>] ['subj', 'obj']>,\n",
       " <Relation ThemeOf [<Entity Gene:'SHP-2' sourceid=None [(1875, 1880)]>, <Entity Var:'C459S' sourceid=None [(1905, 1910)]>] ['subj', 'obj']>,\n",
       " <Relation ThemeOf [<Entity Protein:'Gab2' sourceid=None [(1977, 1981)]>, <Entity Interaction:'interaction' sourceid=None [(1960, 1971)]>] ['subj', 'obj']>]"
      ]
     },
     "execution_count": 57,
     "metadata": {},
     "output_type": "execute_result"
    }
   ],
   "source": [
    "# kindred_corpus.getRelations()"
   ]
  },
  {
   "cell_type": "code",
   "execution_count": 29,
   "id": "8d80cf5f-785d-49cc-8585-ba9333edea96",
   "metadata": {},
   "outputs": [],
   "source": [
    "nlp.to_disk(\"trf_ner_classifier\")"
   ]
  },
  {
   "cell_type": "code",
   "execution_count": 30,
   "id": "e2d088ca-71f3-4671-926f-199f3fe9a75f",
   "metadata": {},
   "outputs": [],
   "source": [
    "# doc2 = nlp(\"There has been much progress in ovarian cancer screening and prevention in recent years. Improved tools that combine genetic and epidemiologic factors to predict an individual's ovarian cancer risk are set to become available for tailoring preventive and screening approaches. The increasing evidence on tubal origins of a proportion of ovarian cancer has paved the way to use of opportunistic bilateral salpingectomy at tubal ligation and hysterectomy in the general population. Clinical trials are in progress to estimate the long-term effects on endocrine function. In women at high risk, risk reducing salpingo-oophorectomy remains the standard of care with the current focus on management of resulting noncancer outcomes, especially sexual dysfunction in younger women. This has led to evaluation of early bilateral salpingectomy and delayed oophorectomy in this population. Meanwhile, modeling suggests that BRCA mutation carriers should consider using the oral contraceptive pill for chemoprevention. In the general population, the largest ovarian cancer screening trial to date, the UK Collaborative Trial of Ovarian Cancer Screening reported a stage shift with annual multimodal screening using the longitudinal CA 125 Risk of Ovarian Cancer Algorithm but not with annual transvaginal ultrasound screening. There was no definitive mortality reduction with either screening strategy compared with no screening. Further follow-up until December 2018 in now underway. Stage shift and higher rates of optimal cytoreduction were also reported during 3- to 4-monthly multimodal screening in the United Kingdom and U.S. high-risk screening trials. Although all agree that there is not yet evidence to support general population screening, recommendations for high-risk screening vary between countries. A key finding from the screening trials has been the better performance of longitudinal algorithms compared with a single cutoff for CA 125. A major focus of ovarian cancer biomarker discovery work has been tumor DNA markers in both plasma and novel specimens such as cervical cytology samples.\")"
   ]
  },
  {
   "cell_type": "code",
   "execution_count": 34,
   "id": "99a10c12-c6d5-4ee5-9f7d-3fbdae044eaa",
   "metadata": {},
   "outputs": [
    {
     "data": {
      "text/plain": [
       "There has been much progress in ovarian cancer screening and prevention in recent years. Improved tools that combine genetic and epidemiologic factors to predict an individual's ovarian cancer risk are set to become available for tailoring preventive and screening approaches. The increasing evidence on tubal origins of a proportion of ovarian cancer has paved the way to use of opportunistic bilateral salpingectomy at tubal ligation and hysterectomy in the general population. Clinical trials are in progress to estimate the long-term effects on endocrine function. In women at high risk, risk reducing salpingo-oophorectomy remains the standard of care with the current focus on management of resulting noncancer outcomes, especially sexual dysfunction in younger women. This has led to evaluation of early bilateral salpingectomy and delayed oophorectomy in this population. Meanwhile, modeling suggests that BRCA mutation carriers should consider using the oral contraceptive pill for chemoprevention. In the general population, the largest ovarian cancer screening trial to date, the UK Collaborative Trial of Ovarian Cancer Screening reported a stage shift with annual multimodal screening using the longitudinal CA 125 Risk of Ovarian Cancer Algorithm but not with annual transvaginal ultrasound screening. There was no definitive mortality reduction with either screening strategy compared with no screening. Further follow-up until December 2018 in now underway. Stage shift and higher rates of optimal cytoreduction were also reported during 3- to 4-monthly multimodal screening in the United Kingdom and U.S. high-risk screening trials. Although all agree that there is not yet evidence to support general population screening, recommendations for high-risk screening vary between countries. A key finding from the screening trials has been the better performance of longitudinal algorithms compared with a single cutoff for CA 125. A major focus of ovarian cancer biomarker discovery work has been tumor DNA markers in both plasma and novel specimens such as cervical cytology samples."
      ]
     },
     "execution_count": 34,
     "metadata": {},
     "output_type": "execute_result"
    }
   ],
   "source": [
    "# doc2"
   ]
  },
  {
   "cell_type": "code",
   "execution_count": null,
   "id": "724fec1c-3bfa-4f6b-a5a6-19a771b08664",
   "metadata": {},
   "outputs": [],
   "source": []
  }
 ],
 "metadata": {
  "kernelspec": {
   "display_name": "poetry_relation_extraction_paper_chat",
   "language": "python",
   "name": "poetry_relation_extraction_paper_chat"
  },
  "language_info": {
   "codemirror_mode": {
    "name": "ipython",
    "version": 3
   },
   "file_extension": ".py",
   "mimetype": "text/x-python",
   "name": "python",
   "nbconvert_exporter": "python",
   "pygments_lexer": "ipython3",
   "version": "3.9.0"
  }
 },
 "nbformat": 4,
 "nbformat_minor": 5
}
